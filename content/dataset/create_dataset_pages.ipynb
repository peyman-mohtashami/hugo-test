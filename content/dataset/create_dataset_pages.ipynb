{
 "cells": [
  {
   "cell_type": "code",
   "execution_count": 39,
   "metadata": {},
   "outputs": [],
   "source": [
    "import xlrd, yaml, os\n",
    "from collections import OrderedDict"
   ]
  },
  {
   "cell_type": "code",
   "execution_count": 5,
   "metadata": {},
   "outputs": [],
   "source": [
    "wb = xlrd.open_workbook('OHDSI COVID-19 Studies_Master List.xlsx')"
   ]
  },
  {
   "cell_type": "code",
   "execution_count": 12,
   "metadata": {},
   "outputs": [],
   "source": [
    "ws = wb.sheet_by_index(0)"
   ]
  },
  {
   "cell_type": "code",
   "execution_count": 61,
   "metadata": {},
   "outputs": [
    {
     "name": "stdout",
     "output_type": "stream",
     "text": [
      "feeder-net-covid-cases-(2-hospitals)/index.md\n",
      "claret/index.md\n",
      "cuimc/index.md\n",
      "daegu-catholic-university-medical-center--covid19/index.md\n",
      "starr-omop/index.md\n",
      "maine-medical-center/index.md\n",
      "ajou-university-school-of-medicine-database-(ausom)/index.md\n",
      "knuh/index.md\n",
      "wkuh/index.md\n",
      "cdm/index.md\n",
      "ibm-marketscan-commercial-claims-(ccae)/index.md\n",
      "ibm-marketscan-medicare-supplemental-database-(mdcr)\t/index.md\n",
      "ipci/index.md\n",
      "iqvia-disease-analyzer-france/index.md\n",
      "iqvia-disease-analyser-germany/index.md\n",
      "iqvia-uk-integrated-medical-record-data-(imrd)/index.md\n",
      "iqvia-us-ambulatory-emr/index.md\n",
      "iqvia-us-hospital-charge-datamaster/index.md\n",
      "iqvia-us-lrxdx-open-claims/index.md\n",
      "clinical-practice-research-datalink-(cprd)/index.md\n",
      "ibm-marketscan-commercial-claims-(ccae)/index.md\n",
      "ibm-marketscan-multi-state-medicaid-database-(mdcd)/index.md\n",
      "ibm-marketscan-medicare-supplemental-database-(mdcr)\t/index.md\n",
      "iqvia-disease-analyzer-france/index.md\n",
      "iqvia-disease-analyser-germany/index.md\n",
      "japan-medical-data-center-(jmdc)/index.md\n",
      "optum-de-identified-clinformatics-data-mart-database---ses-&-dod/index.md\n",
      "optum-de-identified-electronic-health-record-dataset-(panther)/index.md\n",
      "the-information-system-for-research-in-primary-care-(sidiap)/index.md\n",
      "synthetic-derivative/index.md\n",
      "ibm-marketscan-commercial-claims-(ccae)/index.md\n",
      "ibm-marketscan-medicare-supplemental-database-(mdcr)\t/index.md\n",
      "optum-clinformatics-database/index.md\n",
      "source-healthcare-analytics-(sha)/index.md\n",
      "uc-health-data-compass/index.md\n"
     ]
    }
   ],
   "source": [
    "for i in range(2, ws.nrows):\n",
    "    row = ws.row(i)\n",
    "    \n",
    "    folder = row[3].value.lower().replace(' ', '-')\n",
    "    try:\n",
    "        os.mkdir(folder)\n",
    "    except FileExistsError as e:\n",
    "        pass\n",
    "    except FileNotFoundError as d:\n",
    "        continue\n",
    "    \n",
    "    with open(folder + '/index.md', 'w') as f:\n",
    "        print(f.name)\n",
    "        f.write('---\\n')\n",
    "        f.write(f'title: \"{row[3].value}\"\\n')\n",
    "        f.write(f'subtitle: \"\"\\n')\n",
    "        f.write(f'summary: \"{row[12].value}\"\\n')\n",
    "        f.write(f'owner:\\n')\n",
    "        f.write(f'    organisation: \"{row[4].value}\"\\n')\n",
    "        f.write(f'    lead: \"{row[0].value}\"\\n')\n",
    "        f.write(f'    alternate: \"{row[1].value}\"\\n')     \n",
    "        f.write(f'country: \"{row[5].value}\"\\n')\n",
    "        f.write(f'type: \"{row[6].value}\"\\n')\n",
    "        f.write(f'omop: \"{row[7].value}\"\\n')\n",
    "        f.write(f'dbms: \"{row[9].value}\"\\n')\n",
    "        f.write(f'patient_count: \"{row[10].value}\"\\n')\n",
    "        f.write(f'has_covid: \"{row[2].value}\"\\n')\n",
    "        f.write(f'first_time: \"{row[8].value}\"\\n')\n",
    "        f.write(f'data_history: \"{row[11].value}\"\\n')\n",
    "        f.write(f'references: [\"{row[13].value}\"]\\n\\n')\n",
    "        f.write(f'authors: \\n')\n",
    "        for author in row[0].value.split('/'):\n",
    "            f.write(f'    - \"{author}\"\\n')                    \n",
    "        f.write(f'tags: []\\n')\n",
    "        f.write(f'categories: [\"dataset\"]\\n')\n",
    "        f.write(f'date: 2020-03-28T00:00:00+01:00\\n')\n",
    "        f.write(f'lastmod: 2020-03-28T00:00:00+01:00\\n')\n",
    "        f.write(f'featured: false\\n')\n",
    "        f.write(f'draft: true\\n\\n')\n",
    "        f.write('links:\\n')\n",
    "        f.write('    - icon: globe\\n')\n",
    "        f.write('      icon_pack: fas\\n')\n",
    "        f.write('      name: More information\\n')\n",
    "        f.write('      url: \"\"\\n')\n",
    "        f.write('image:\\n')\n",
    "        f.write('      placement: 1\\n')\n",
    "        f.write('      caption: \"\"\\n')\n",
    "        f.write('      focal_point: \"\"\\n')\n",
    "        f.write('      preview_only: false\\n')\n",
    "        f.write('      alt_text: \"\"\\n')\n",
    "        f.write('projects: []\\n')\n",
    "        f.write('---')\n",
    "    \n",
    "#     d_yaml = yaml.dump(dict(d))    \n",
    "#     with open(folder + '/index.md', 'w') as f:\n",
    "\n",
    "\n"
   ]
  },
  {
   "cell_type": "code",
   "execution_count": null,
   "metadata": {},
   "outputs": [],
   "source": []
  }
 ],
 "metadata": {
  "kernelspec": {
   "display_name": "Python 3",
   "language": "python",
   "name": "python3"
  },
  "language_info": {
   "codemirror_mode": {
    "name": "ipython",
    "version": 3
   },
   "file_extension": ".py",
   "mimetype": "text/x-python",
   "name": "python",
   "nbconvert_exporter": "python",
   "pygments_lexer": "ipython3",
   "version": "3.6.8"
  }
 },
 "nbformat": 4,
 "nbformat_minor": 4
}
