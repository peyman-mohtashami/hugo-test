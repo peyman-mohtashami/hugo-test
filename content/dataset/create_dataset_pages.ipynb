{
 "cells": [
  {
   "cell_type": "code",
   "execution_count": 1,
   "metadata": {
    "pycharm": {
     "is_executing": false
    }
   },
   "outputs": [],
   "source": [
    "import xlrd, os, html"
   ]
  },
  {
   "cell_type": "code",
   "execution_count": 4,
   "metadata": {
    "pycharm": {
     "is_executing": false
    }
   },
   "outputs": [],
   "source": [
    "wb = xlrd.open_workbook('/Users/Maxim/Develop/OHDSI/ohdsi-covid19-site/content/dataset/OHDSI COVID-19 Studies_Master List.xlsx')"
   ]
  },
  {
   "cell_type": "code",
   "execution_count": 5,
   "metadata": {
    "pycharm": {
     "is_executing": false
    }
   },
   "outputs": [],
   "source": [
    "ws = wb.sheet_by_index(0)"
   ]
  },
  {
   "cell_type": "code",
   "execution_count": 11,
   "metadata": {
    "pycharm": {
     "is_executing": false
    }
   },
   "outputs": [
    {
     "name": "stdout",
     "text": [
      "/Users/Maxim/Develop/OHDSI/ohdsi-covid19-site/content/dataset/feeder-net-covid-cases-(2-hospitals).md\n",
      "/Users/Maxim/Develop/OHDSI/ohdsi-covid19-site/content/dataset/claret.md\n",
      "/Users/Maxim/Develop/OHDSI/ohdsi-covid19-site/content/dataset/cuimc.md\n",
      "/Users/Maxim/Develop/OHDSI/ohdsi-covid19-site/content/dataset/daegu-catholic-university-medical-center--covid19.md\n",
      "/Users/Maxim/Develop/OHDSI/ohdsi-covid19-site/content/dataset/starr-omop.md\n",
      "/Users/Maxim/Develop/OHDSI/ohdsi-covid19-site/content/dataset/maine-medical-center.md\n",
      "/Users/Maxim/Develop/OHDSI/ohdsi-covid19-site/content/dataset/uc-health-data-compass.md\n",
      "/Users/Maxim/Develop/OHDSI/ohdsi-covid19-site/content/dataset/va-omop.md\n",
      "/Users/Maxim/Develop/OHDSI/ohdsi-covid19-site/content/dataset/ajou-university-school-of-medicine-database-(ausom).md\n",
      "/Users/Maxim/Develop/OHDSI/ohdsi-covid19-site/content/dataset/knuh.md\n",
      "/Users/Maxim/Develop/OHDSI/ohdsi-covid19-site/content/dataset/wkuh.md\n",
      "/Users/Maxim/Develop/OHDSI/ohdsi-covid19-site/content/dataset/cdm.md\n",
      "/Users/Maxim/Develop/OHDSI/ohdsi-covid19-site/content/dataset/ibm-marketscan-commercial-claims-(ccae).md\n",
      "/Users/Maxim/Develop/OHDSI/ohdsi-covid19-site/content/dataset/ibm-marketscan-medicare-supplemental-database-(mdcr).md\n",
      "/Users/Maxim/Develop/OHDSI/ohdsi-covid19-site/content/dataset/ipci.md\n",
      "/Users/Maxim/Develop/OHDSI/ohdsi-covid19-site/content/dataset/iqvia-disease-analyzer-france.md\n",
      "/Users/Maxim/Develop/OHDSI/ohdsi-covid19-site/content/dataset/iqvia-disease-analyser-germany.md\n",
      "/Users/Maxim/Develop/OHDSI/ohdsi-covid19-site/content/dataset/iqvia-disease-analyser-beligum.md\n",
      "/Users/Maxim/Develop/OHDSI/ohdsi-covid19-site/content/dataset/iqvia-uk-integrated-medical-record-data-(imrd).md\n",
      "/Users/Maxim/Develop/OHDSI/ohdsi-covid19-site/content/dataset/iqvia-us-ambulatory-emr.md\n",
      "/Users/Maxim/Develop/OHDSI/ohdsi-covid19-site/content/dataset/iqvia-us-hospital-charge-datamaster.md\n",
      "/Users/Maxim/Develop/OHDSI/ohdsi-covid19-site/content/dataset/iqvia-us-lrxdx-open-claims.md\n",
      "/Users/Maxim/Develop/OHDSI/ohdsi-covid19-site/content/dataset/clinical-practice-research-datalink-(cprd).md\n",
      "/Users/Maxim/Develop/OHDSI/ohdsi-covid19-site/content/dataset/ibm-marketscan-commercial-claims-(ccae)-25.md\n",
      "/Users/Maxim/Develop/OHDSI/ohdsi-covid19-site/content/dataset/ibm-marketscan-multi-state-medicaid-database-(mdcd).md\n",
      "/Users/Maxim/Develop/OHDSI/ohdsi-covid19-site/content/dataset/ibm-marketscan-medicare-supplemental-database-(mdcr)-27.md\n",
      "/Users/Maxim/Develop/OHDSI/ohdsi-covid19-site/content/dataset/iqvia-disease-analyzer-france-28.md\n",
      "/Users/Maxim/Develop/OHDSI/ohdsi-covid19-site/content/dataset/iqvia-disease-analyser-germany-29.md\n",
      "/Users/Maxim/Develop/OHDSI/ohdsi-covid19-site/content/dataset/japan-medical-data-center-(jmdc).md\n",
      "/Users/Maxim/Develop/OHDSI/ohdsi-covid19-site/content/dataset/optum-de-identified-clinformatics-data-mart-database---ses-&-dod.md\n",
      "/Users/Maxim/Develop/OHDSI/ohdsi-covid19-site/content/dataset/optum-de-identified-electronic-health-record-dataset-(panther).md\n",
      "/Users/Maxim/Develop/OHDSI/ohdsi-covid19-site/content/dataset/the-information-system-for-research-in-primary-care-(sidiap).md\n",
      "/Users/Maxim/Develop/OHDSI/ohdsi-covid19-site/content/dataset/synthetic-derivative.md\n",
      "/Users/Maxim/Develop/OHDSI/ohdsi-covid19-site/content/dataset/.md\n",
      "/Users/Maxim/Develop/OHDSI/ohdsi-covid19-site/content/dataset/ibm-marketscan-commercial-claims-(ccae)-36.md\n",
      "/Users/Maxim/Develop/OHDSI/ohdsi-covid19-site/content/dataset/ibm-marketscan-medicare-supplemental-database-(mdcr)-37.md\n",
      "/Users/Maxim/Develop/OHDSI/ohdsi-covid19-site/content/dataset/ibm-marketscan-multi-state-medicaid-database-(mdcd)-38.md\n",
      "/Users/Maxim/Develop/OHDSI/ohdsi-covid19-site/content/dataset/optum-clinformatics-database.md\n"
     ],
     "output_type": "stream"
    }
   ],
   "source": [
    "output_path = '/Users/Maxim/Develop/OHDSI/ohdsi-covid19-site/content/dataset/'\n",
    "sources_seen = set()\n",
    "duplicate_sources = []\n",
    "for i in range(2, ws.nrows):\n",
    "    row = ws.row(i)\n",
    "    \n",
    "    source_name = row[3].value.strip().lower().replace(' ', '-')\n",
    "    if source_name in sources_seen:\n",
    "        duplicate_sources.append(row)\n",
    "        source_name = f'{source_name}-{i}'\n",
    "    sources_seen.add(source_name)\n",
    "#     try:\n",
    "#         os.mkdir(folder)\n",
    "#     except FileExistsError as e:\n",
    "#         pass\n",
    "#     except FileNotFoundError as d:\n",
    "#         continue\n",
    "    \n",
    "    with open(output_path + source_name +'.md', 'w') as f:\n",
    "        print(f.name)\n",
    "        f.write('---\\n')\n",
    "        f.write(f'title: \"{row[3].value}\"\\n')\n",
    "        f.write(f'subtitle: \"\"\\n')\n",
    "        f.write(f'summary: \"{row[12].value}\"\\n')\n",
    "        f.write(f'owners:\\n')\n",
    "        f.write(f'  - organisation: \"{row[4].value}\"\\n')\n",
    "        f.write(f'    lead: \"{row[0].value}\"\\n')\n",
    "        f.write(f'    alternate: \"{row[1].value}\"\\n')     \n",
    "        f.write(f'country: \"{row[5].value}\"\\n')\n",
    "        f.write(f'source_types: \\n')\n",
    "        for source_type in row[6].value.split(','):\n",
    "                    f.write(f'    - \"{source_type}\"\\n')\n",
    "        f.write(f'omop: \"{row[7].value}\"\\n')\n",
    "        f.write(f'dbms: \"{row[9].value}\"\\n')\n",
    "        f.write(f'patient_count: \"{row[10].value}\"\\n')\n",
    "        f.write(f'has_covid: \"{row[2].value}\"\\n')\n",
    "        f.write(f'first_time: \"{row[8].value}\"\\n')\n",
    "        f.write(f'data_history: \"{row[11].value}\"\\n')\n",
    "        f.write(f'references: [\"{row[13].value}\"]\\n\\n')\n",
    "        f.write(f'authors: \\n')\n",
    "        for author in row[0].value.split('/'):\n",
    "            f.write(f'    - \"{author}\"\\n')    \n",
    "        for alternate in row[1].value.split('/'):\n",
    "            f.write(f'    - \"{alternate}\"\\n')  \n",
    "        f.write(f'tags: []\\n')\n",
    "        f.write(f'categories: [\"dataset\"]\\n')\n",
    "        f.write(f'date: 2020-03-28T00:00:00+01:00\\n')\n",
    "        f.write(f'lastmod: 2020-03-28T00:00:00+01:00\\n')\n",
    "        f.write(f'featured: false\\n')\n",
    "        f.write(f'draft: false\\n\\n')\n",
    "        f.write('links:\\n')\n",
    "        f.write('    - icon: globe\\n')\n",
    "        f.write('      icon_pack: fas\\n')\n",
    "        f.write('      name: More information\\n')\n",
    "        f.write('      url: \"\"\\n')\n",
    "        f.write('image:\\n')\n",
    "        f.write('      placement: 1\\n')\n",
    "        f.write('      caption: \"\"\\n')\n",
    "        f.write('      focal_point: \"\"\\n')\n",
    "        f.write('      preview_only: false\\n')\n",
    "        f.write('      alt_text: \"\"\\n')\n",
    "        f.write('projects: []\\n')\n",
    "        f.write('---')\n"
   ]
  },
  {
   "cell_type": "code",
   "execution_count": 7,
   "metadata": {
    "pycharm": {
     "is_executing": false
    }
   },
   "outputs": [
    {
     "data": {
      "text/plain": "[[text:'Janssen R&D',\n  text:'See Grid',\n  text:'N',\n  text:'IBM MarketScan Commercial Claims (CCAE)',\n  text:'Janssen R&D',\n  text:'USA',\n  text:'Insurance claims',\n  text:'CDM v5.3',\n  text:'No',\n  text:'SQL Server',\n  text:'142m',\n  text:'2000 – ',\n  text:'Data from individuals enrolled in United States employer-sponsored   insurance   health   plans.   The   data includes adjudicated   health   insurance   claims   (e.g. inpatient, outpatient, and outpatient pharmacy) as well as enrollment data from large employers and health plans who provide private healthcare coverage to employees, their spouses,and dependents. Additionally, it captures laboratory tests for a subset of the covered lives. The patients in thisdatabase are aged under 65.',\n  empty:''],\n [text:'Janssen R&D',\n  text:'See Grid',\n  text:'N',\n  text:'IBM MarketScan Medicare Supplemental Database (MDCR)\\t',\n  text:'Janssen R&D',\n  text:'USA',\n  text:'Insurance claims',\n  text:'CDM v5.3',\n  text:'No',\n  text:'SQL Server',\n  text:'10m ',\n  text:'2000 – ',\n  text:'Represents health services of retirees (aged 65 or older) inthe United States with primary or Medicare supplemental coverage through privately insured fee-for-service, point-of-service, or capitated health plans. These data include adjudicated health insurance  claims (e.g.   inpatient, outpatient, and outpatient pharmacy). Additionally, it captures laboratory tests for a subset of the covered lives.',\n  empty:''],\n [text:'Janssen R&D',\n  text:'See Grid',\n  text:'N',\n  text:'IQVIA Disease Analyzer France',\n  text:'Janssen R&D',\n  text:'France',\n  text:'General practice electronic health records, Outpatient specialist electronic health records',\n  text:'CDM v5.3',\n  text:'No',\n  text:'SQL Server',\n  empty:'',\n  empty:'',\n  text:'Anonymized patient records collected from Patient Management software used by GPs during an office visit to document patients’ clinical records\\xa0',\n  empty:''],\n [text:'Janssen R&D',\n  text:'See Grid',\n  text:'N',\n  text:'IQVIA Disease Analyser Germany',\n  text:'Janssen R&D',\n  text:'Germany',\n  text:'General practice electronic health records',\n  text:'CDM v5.3',\n  text:'No',\n  text:'SQL Server',\n  text:'37m ',\n  text:'1992 – ',\n  text:'Anonymized patient records collected from Patient Management software used by GPs and selected specialists to document patients’ medical records within their office-based practice during a visit\\xa0',\n  empty:''],\n [text:'Weihua Gao',\n  text:'Shivaji Manthena / Lakshmi Kandukuri',\n  text:'N',\n  text:'IBM MarketScan Commercial Claims (CCAE)',\n  text:'AbbVie',\n  text:'USA',\n  text:'Insurance claims',\n  text:'CDM v5.0',\n  text:'Yes',\n  text:'SQL Server (hardoop)',\n  text:'~200m',\n  text:'2000-01 to 2019-10',\n  text:'The IBM® MarketScan® Commercial database captures person-specific clinical utilization, expenditures, and enrollment across inpatient, outpatient, prescription drug, and carve-out services from a selection of large employers across the US.  It includes data on active employees, early retirees, COBRA continues, and their dependents insured by employer-sponsored plans (i.e., non-Medicare eligible).   Demographics (age, gender and geographic region), enrollment duration, inpatient/outpatient diagnosis codes [International Classification of Disease, 9th & 10th Revision, Clinical Modification (ICD-9-CM/OCD-10-CM) format] and outpatient prescription data (Market Scan defined therapeutic classes) are included in the data set',\n  empty:''],\n [text:'Weihua Gao',\n  text:'Shivaji Manthena /Lakshmi Kandukuri',\n  text:'N',\n  text:'IBM MarketScan Medicare Supplemental Database (MDCR)\\t',\n  text:'AbbVie',\n  text:'USA',\n  text:'Insurance claims',\n  text:'CDM v5.0',\n  text:'Yes',\n  text:'SQL Server (hardoop)',\n  text:'~14m',\n  text:'2000-01 to 2019-10',\n  text:'The IBM® MarketScan® Medicare Supplemental and Coordination of Benefits (COB) Database (also known as MDCR) is created for Medicare-eligible retirees with employer-sponsored Medicare Supplemental plans. This database contains predominantly fee-for-service plan data.',\n  empty:''],\n [text:'Weihua Gao',\n  text:'Shivaji Manthena /Siting Wang',\n  text:'N',\n  text:'IBM MarketScan Multi-State Medicaid Database (MDCD)',\n  text:'AbbVie',\n  text:'USA',\n  text:'Insurance claims',\n  text:'CDM v5.0',\n  text:'Yes',\n  text:'SQL Server (hardoop)',\n  text:'~32m',\n  text:'2000-01 to 2018-07',\n  text:'The IBM® MarketScan® Multi-Medicaid Database contains the pooled health care experience of approximately seven million Medicaid enrollees from multiple states. It includes inpatient services and prescription drug claims, as well as information on enrollment, long-term care, and other medical care. In addition to standard demographic variables such as age and sex, the database includes variables of particular value to researchers investigating Medicaid populations (e.g., race/ethnicity, maintenance assistance status, Medicare eligibility).',\n  empty:'']]"
     },
     "metadata": {},
     "output_type": "execute_result",
     "execution_count": 7
    }
   ],
   "source": [
    "duplicate_sources"
   ]
  },
  {
   "cell_type": "code",
   "execution_count": null,
   "metadata": {},
   "outputs": [],
   "source": []
  }
 ],
 "metadata": {
  "kernelspec": {
   "display_name": "Python 3",
   "language": "python",
   "name": "python3"
  },
  "language_info": {
   "codemirror_mode": {
    "name": "ipython",
    "version": 3
   },
   "file_extension": ".py",
   "mimetype": "text/x-python",
   "name": "python",
   "nbconvert_exporter": "python",
   "pygments_lexer": "ipython3",
   "version": "3.7.6"
  },
  "pycharm": {
   "stem_cell": {
    "cell_type": "raw",
    "source": [],
    "metadata": {
     "collapsed": false
    }
   }
  }
 },
 "nbformat": 4,
 "nbformat_minor": 4
}
